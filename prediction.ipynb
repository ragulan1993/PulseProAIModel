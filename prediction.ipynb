{
 "cells": [
  {
   "cell_type": "code",
   "execution_count": 7,
   "metadata": {},
   "outputs": [],
   "source": [
    "import joblib\n",
    "import pandas as pd\n",
    "from sklearn.ensemble import RandomForestClassifier\n",
    "import numpy as np"
   ]
  },
  {
   "cell_type": "code",
   "execution_count": 8,
   "metadata": {},
   "outputs": [],
   "source": [
    "# rf_classifier = RandomForestClassifier(random_state = 42)\n",
    "rf_classifier_loaded = joblib.load('random_forest.pkl')"
   ]
  },
  {
   "cell_type": "code",
   "execution_count": 9,
   "metadata": {},
   "outputs": [],
   "source": [
    "data = pd.read_csv('gym_members_exercise_tracking_new.csv')\n",
    "X = data[['Age', 'Gender', 'Weight (kg)', 'Height (m)', 'Session_Duration (hours)', 'Workout_Frequency (days/week)', 'Fitness_Level', 'BMI']]"
   ]
  },
  {
   "cell_type": "code",
   "execution_count": 10,
   "metadata": {},
   "outputs": [
    {
     "name": "stdout",
     "output_type": "stream",
     "text": [
      "bmi:22.857142857142858\n"
     ]
    }
   ],
   "source": [
    "weight = 70\n",
    "height = 1.75\n",
    "bmi =(weight/(height * height))\n",
    "print(f\"bmi:{bmi}\")"
   ]
  },
  {
   "cell_type": "code",
   "execution_count": 11,
   "metadata": {},
   "outputs": [],
   "source": [
    "\n",
    "# This is for a younger boy\n",
    "new_member = np.array([[25, 1, weight, height, 1.5, 4, 3, bmi]])"
   ]
  },
  {
   "cell_type": "code",
   "execution_count": 12,
   "metadata": {},
   "outputs": [
    {
     "name": "stdout",
     "output_type": "stream",
     "text": [
      "Predicted workout type: Cardio\n"
     ]
    }
   ],
   "source": [
    "new_member_df = pd.DataFrame(new_member, columns=X.columns)\n",
    "predicted_workout = rf_classifier_loaded.predict(new_member_df)\n",
    "print(f\"Predicted workout type: {predicted_workout[0]}\")"
   ]
  },
  {
   "cell_type": "code",
   "execution_count": 13,
   "metadata": {},
   "outputs": [
    {
     "name": "stdout",
     "output_type": "stream",
     "text": [
      "bmi:31.11111111111111\n"
     ]
    }
   ],
   "source": [
    "# This is for a old man\n",
    "weight = 70\n",
    "height = 1.5\n",
    "bmi =(weight/(height * height))\n",
    "print(f\"bmi:{bmi}\")\n",
    "new_member_old = np.array([[70, 1, weight, height, 0.5, 5, 1, bmi]])"
   ]
  },
  {
   "cell_type": "code",
   "execution_count": 14,
   "metadata": {},
   "outputs": [
    {
     "name": "stdout",
     "output_type": "stream",
     "text": [
      "Predicted workout type: Strength\n"
     ]
    }
   ],
   "source": [
    "new_member_df_old = pd.DataFrame(new_member_old, columns=X.columns)\n",
    "predicted_workout_for_old = rf_classifier_loaded.predict(new_member_df_old)\n",
    "print(f\"Predicted workout type: {predicted_workout_for_old[0]}\")"
   ]
  },
  {
   "cell_type": "code",
   "execution_count": 15,
   "metadata": {},
   "outputs": [
    {
     "name": "stdout",
     "output_type": "stream",
     "text": [
      "bmi:24.654832347140037\n"
     ]
    }
   ],
   "source": [
    "# This is for a girl\n",
    "weight = 60\n",
    "height = 1.56\n",
    "bmi =(weight/(height * height))\n",
    "print(f\"bmi:{bmi}\")\n",
    "new_member_girl = np.array([[30, 0, weight, height, 1, 3, 3, bmi]])"
   ]
  },
  {
   "cell_type": "code",
   "execution_count": 16,
   "metadata": {},
   "outputs": [
    {
     "name": "stdout",
     "output_type": "stream",
     "text": [
      "Predicted workout type: Strength\n"
     ]
    }
   ],
   "source": [
    "new_member_df_girl = pd.DataFrame(new_member_girl, columns=X.columns)\n",
    "predicted_workout_for_girl = rf_classifier_loaded.predict(new_member_df_girl)\n",
    "print(f\"Predicted workout type: {predicted_workout_for_girl[0]}\")"
   ]
  },
  {
   "cell_type": "code",
   "execution_count": 19,
   "metadata": {},
   "outputs": [
    {
     "name": "stdout",
     "output_type": "stream",
     "text": [
      "bmi:26.25072494734593\n"
     ]
    }
   ],
   "source": [
    "# This is for a boy\n",
    "weight = 86\n",
    "height = 1.81\n",
    "bmi =(weight/(height * height))\n",
    "print(f\"bmi:{bmi}\")\n",
    "new_member_boy = np.array([[32, 1, weight, height, 1, 4, 2, bmi]])"
   ]
  },
  {
   "cell_type": "code",
   "execution_count": 20,
   "metadata": {},
   "outputs": [
    {
     "name": "stdout",
     "output_type": "stream",
     "text": [
      "Predicted workout type: Cardio\n"
     ]
    }
   ],
   "source": [
    "new_member_df_boy = pd.DataFrame(new_member_boy, columns=X.columns)\n",
    "predicted_workout_for_boy = rf_classifier_loaded.predict(new_member_df_boy)\n",
    "print(f\"Predicted workout type: {predicted_workout_for_boy[0]}\")"
   ]
  }
 ],
 "metadata": {
  "kernelspec": {
   "display_name": "Python 3 (ipykernel)",
   "language": "python",
   "name": "python3"
  },
  "language_info": {
   "codemirror_mode": {
    "name": "ipython",
    "version": 3
   },
   "file_extension": ".py",
   "mimetype": "text/x-python",
   "name": "python",
   "nbconvert_exporter": "python",
   "pygments_lexer": "ipython3",
   "version": "3.13.2"
  }
 },
 "nbformat": 4,
 "nbformat_minor": 2
}
